{
 "cells": [
  {
   "cell_type": "code",
   "execution_count": 1,
   "metadata": {},
   "outputs": [],
   "source": [
    "from __future__ import print_function, division\n",
    "import badlands \n",
    "from badlands.model import Model as badlandsModel\n",
    "import numpy as np\n",
    "from scipy.spatial import cKDTree\n",
    "from numpy import genfromtxt\n",
    "import matplotlib.pyplot as plt\n",
    "import math, csv"
   ]
  },
  {
   "cell_type": "code",
   "execution_count": 2,
   "metadata": {},
   "outputs": [],
   "source": [
    "def interpolateArray(coords=None, z=None, dz=None):\n",
    "    \"\"\"\n",
    "    Interpolate the irregular spaced dataset from badlands on a regular grid.\n",
    "    \"\"\"\n",
    "    x, y = np.hsplit(coords, 2)\n",
    "    dx = (x[1]-x[0])[0]\n",
    "\n",
    "    nx = int(((x.max() - x.min())/dx+1) - 2)\n",
    "    ny = int(((y.max() - y.min())/dx+1) - 2)\n",
    "    xi = np.linspace(x.min(), x.max(), nx)\n",
    "    yi = np.linspace(y.min(), y.max(), ny)\n",
    "\n",
    "    xi, yi = np.meshgrid(xi, yi)\n",
    "    xyi = np.dstack([xi.flatten(), yi.flatten()])[0]\n",
    "    XY = np.column_stack((x,y))\n",
    "\n",
    "    tree = cKDTree(XY)\n",
    "    distances, indices = tree.query(xyi, k=3)\n",
    "    if len(z[indices].shape) == 3:\n",
    "        z_vals = z[indices][:,:,0]\n",
    "        dz_vals = dz[indices][:,:,0]\n",
    "    else:\n",
    "        z_vals = z[indices]\n",
    "        dz_vals = dz[indices]\n",
    "\n",
    "    zi = np.average(z_vals,weights=(1./distances), axis=1)\n",
    "    dzi = np.average(dz_vals,weights=(1./distances), axis=1)\n",
    "    onIDs = np.where(distances[:,0] == 0)[0]\n",
    "    if len(onIDs) > 0:\n",
    "        zi[onIDs] = z[indices[onIDs,0]]\n",
    "        dzi[onIDs] = dz[indices[onIDs,0]]\n",
    "    zreg = np.reshape(zi,(ny,nx))\n",
    "    dzreg = np.reshape(dzi,(ny,nx))\n",
    "    \n",
    "    return zreg,dzreg"
   ]
  },
  {
   "cell_type": "code",
   "execution_count": 4,
   "metadata": {},
   "outputs": [
    {
     "ename": "RuntimeError",
     "evalue": "The XmL input file name cannot be found in your path.",
     "output_type": "error",
     "traceback": [
      "\u001b[0;31m---------------------------------------------------------------------------\u001b[0m",
      "\u001b[0;31mRuntimeError\u001b[0m                              Traceback (most recent call last)",
      "\u001b[0;32m<ipython-input-4-ab659c445067>\u001b[0m in \u001b[0;36m<module>\u001b[0;34m\u001b[0m\n\u001b[1;32m      1\u001b[0m \u001b[0mmodel\u001b[0m \u001b[0;34m=\u001b[0m \u001b[0mbadlandsModel\u001b[0m\u001b[0;34m(\u001b[0m\u001b[0;34m)\u001b[0m\u001b[0;34m\u001b[0m\u001b[0;34m\u001b[0m\u001b[0m\n\u001b[0;32m----> 2\u001b[0;31m \u001b[0mmodel\u001b[0m\u001b[0;34m.\u001b[0m\u001b[0mload_xml\u001b[0m\u001b[0;34m(\u001b[0m\u001b[0;34m'Output'\u001b[0m\u001b[0;34m,\u001b[0m\u001b[0;34m'Examples/australia_gda94/AUSB004.xml'\u001b[0m\u001b[0;34m,\u001b[0m \u001b[0mmuted\u001b[0m \u001b[0;34m=\u001b[0m \u001b[0;32mFalse\u001b[0m\u001b[0;34m)\u001b[0m\u001b[0;34m\u001b[0m\u001b[0;34m\u001b[0m\u001b[0m\n\u001b[0m",
      "\u001b[0;32m~/.local/lib/python3.7/site-packages/badlands/model.py\u001b[0m in \u001b[0;36mload_xml\u001b[0;34m(self, run_nb, filename, verbose, muted)\u001b[0m\n\u001b[1;32m     82\u001b[0m \u001b[0;34m\u001b[0m\u001b[0m\n\u001b[1;32m     83\u001b[0m         \u001b[0;31m# Only the first node should create a unique output dir\u001b[0m\u001b[0;34m\u001b[0m\u001b[0;34m\u001b[0m\u001b[0;34m\u001b[0m\u001b[0m\n\u001b[0;32m---> 84\u001b[0;31m         \u001b[0mself\u001b[0m\u001b[0;34m.\u001b[0m\u001b[0minput\u001b[0m \u001b[0;34m=\u001b[0m \u001b[0mxmlParser\u001b[0m\u001b[0;34m.\u001b[0m\u001b[0mxmlParser\u001b[0m\u001b[0;34m(\u001b[0m\u001b[0mrun_nb\u001b[0m\u001b[0;34m,\u001b[0m\u001b[0mmuted\u001b[0m\u001b[0;34m,\u001b[0m\u001b[0mfilename\u001b[0m\u001b[0;34m,\u001b[0m \u001b[0mmakeUniqueOutputDir\u001b[0m\u001b[0;34m=\u001b[0m\u001b[0;32mTrue\u001b[0m\u001b[0;34m)\u001b[0m\u001b[0;34m\u001b[0m\u001b[0;34m\u001b[0m\u001b[0m\n\u001b[0m\u001b[1;32m     85\u001b[0m         \u001b[0mself\u001b[0m\u001b[0;34m.\u001b[0m\u001b[0mtNow\u001b[0m \u001b[0;34m=\u001b[0m \u001b[0mself\u001b[0m\u001b[0;34m.\u001b[0m\u001b[0minput\u001b[0m\u001b[0;34m.\u001b[0m\u001b[0mtStart\u001b[0m\u001b[0;34m\u001b[0m\u001b[0;34m\u001b[0m\u001b[0m\n\u001b[1;32m     86\u001b[0m \u001b[0;34m\u001b[0m\u001b[0m\n",
      "\u001b[0;32m~/.local/lib/python3.7/site-packages/badlands/forcing/xmlParser.py\u001b[0m in \u001b[0;36m__init__\u001b[0;34m(self, run_nb, muted, inputfile, makeUniqueOutputDir)\u001b[0m\n\u001b[1;32m     28\u001b[0m             \u001b[0;32mraise\u001b[0m \u001b[0mRuntimeError\u001b[0m\u001b[0;34m(\u001b[0m\u001b[0;34m'XmL input file name must be defined to run a Badlands simulation.'\u001b[0m\u001b[0;34m)\u001b[0m\u001b[0;34m\u001b[0m\u001b[0;34m\u001b[0m\u001b[0m\n\u001b[1;32m     29\u001b[0m         \u001b[0;32mif\u001b[0m \u001b[0;32mnot\u001b[0m \u001b[0mos\u001b[0m\u001b[0;34m.\u001b[0m\u001b[0mpath\u001b[0m\u001b[0;34m.\u001b[0m\u001b[0misfile\u001b[0m\u001b[0;34m(\u001b[0m\u001b[0minputfile\u001b[0m\u001b[0;34m)\u001b[0m\u001b[0;34m:\u001b[0m\u001b[0;34m\u001b[0m\u001b[0;34m\u001b[0m\u001b[0m\n\u001b[0;32m---> 30\u001b[0;31m             \u001b[0;32mraise\u001b[0m \u001b[0mRuntimeError\u001b[0m\u001b[0;34m(\u001b[0m\u001b[0;34m'The XmL input file name cannot be found in your path.'\u001b[0m\u001b[0;34m)\u001b[0m\u001b[0;34m\u001b[0m\u001b[0;34m\u001b[0m\u001b[0m\n\u001b[0m\u001b[1;32m     31\u001b[0m         \u001b[0mself\u001b[0m\u001b[0;34m.\u001b[0m\u001b[0minputfile\u001b[0m \u001b[0;34m=\u001b[0m \u001b[0minputfile\u001b[0m\u001b[0;34m\u001b[0m\u001b[0;34m\u001b[0m\u001b[0m\n\u001b[1;32m     32\u001b[0m \u001b[0;34m\u001b[0m\u001b[0m\n",
      "\u001b[0;31mRuntimeError\u001b[0m: The XmL input file name cannot be found in your path."
     ]
    }
   ],
   "source": [
    "model = badlandsModel()\n",
    "model.load_xml('Output','Examples/australia_gda94/AUSB004.xml', muted = False)"
   ]
  },
  {
   "cell_type": "code",
   "execution_count": null,
   "metadata": {},
   "outputs": [],
   "source": []
  }
 ],
 "metadata": {
  "kernelspec": {
   "display_name": "Python 3.7.6 64-bit ('base': conda)",
   "language": "python",
   "name": "python37664bitbaseconda00848aad69e24a85b9cffb9b31487c5f"
  },
  "language_info": {
   "codemirror_mode": {
    "name": "ipython",
    "version": 3
   },
   "file_extension": ".py",
   "mimetype": "text/x-python",
   "name": "python",
   "nbconvert_exporter": "python",
   "pygments_lexer": "ipython3",
   "version": "3.7.6"
  }
 },
 "nbformat": 4,
 "nbformat_minor": 2
}
